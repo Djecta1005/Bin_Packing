{
 "cells": [
  {
   "cell_type": "code",
   "execution_count": 1,
   "metadata": {},
   "outputs": [],
   "source": [
    "import numpy as np\n",
    "import pandas as pd \n",
    "import matplotlib.pyplot as plt "
   ]
  },
  {
   "cell_type": "code",
   "execution_count": 50,
   "metadata": {},
   "outputs": [
    {
     "name": "stdout",
     "output_type": "stream",
     "text": [
      "2\n"
     ]
    }
   ],
   "source": [
    "def firstFit(weight, n, c): \n",
    "    res=0\n",
    "    bin_rem=np.empty(n)\n",
    "    for i in range(n):\n",
    "        j=0\n",
    "       \n",
    "        for j in range(res+1):\n",
    "           \n",
    "            if bin_rem[j]>=weight[i]:\n",
    "                \n",
    "                bin_rem[j] = bin_rem[j] - weight[i]\n",
    "                break\n",
    "        \n",
    "        if j==res:\n",
    "            bin_rem[res] = c - weight[i]\n",
    "            res=res+1\n",
    "            \n",
    "    return res\n",
    "\n",
    "weight = np.array([ 4, 8, 1, 4, 2, 1])\n",
    "c = 10\n",
    "n = np.size(weight)\n",
    "print(firstFit(weight, n, c));\n"
   ]
  },
  {
   "cell_type": "code",
   "execution_count": 51,
   "metadata": {},
   "outputs": [
    {
     "name": "stdout",
     "output_type": "stream",
     "text": [
      "2\n"
     ]
    }
   ],
   "source": [
    "def firstFitDecreasing(weight, n, c): \n",
    "    -np.sort(-weight)\n",
    "    return firstFit(weight, n, c) \n",
    "\n",
    "weight = np.array([ 4, 8, 1, 4, 2, 1])\n",
    "c = 10\n",
    "n = np.size(weight)\n",
    "print(firstFitDecreasing(weight, n, c));\n"
   ]
  }
 ],
 "metadata": {
  "kernelspec": {
   "display_name": "Python 3",
   "language": "python",
   "name": "python3"
  },
  "language_info": {
   "codemirror_mode": {
    "name": "ipython",
    "version": 3
   },
   "file_extension": ".py",
   "mimetype": "text/x-python",
   "name": "python",
   "nbconvert_exporter": "python",
   "pygments_lexer": "ipython3",
   "version": "3.7.3"
  }
 },
 "nbformat": 4,
 "nbformat_minor": 2
}
