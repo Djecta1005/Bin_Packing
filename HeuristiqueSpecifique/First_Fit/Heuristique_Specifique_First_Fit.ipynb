{
 "cells": [
  {
   "cell_type": "code",
   "execution_count": 1,
   "metadata": {},
   "outputs": [],
   "source": [
    "import numpy as np\n",
    "import pandas as pd \n",
    "import matplotlib.pyplot as plt "
   ]
  },
  {
   "cell_type": "code",
   "execution_count": 122,
   "metadata": {},
   "outputs": [
    {
     "name": "stdout",
     "output_type": "stream",
     "text": [
      "(60, [[34991, 34941, 30063], [34922, 34866, 30140], [34849, 34771, 30341], [34768, 34748, 30395], [34544, 34358, 31006], [34254, 34155, 31354], [34098, 34076, 31692], [34055, 34048, 31865], [34029, 33990, 31961], [33871, 33780, 32309], [33750, 33654, 32394], [33612, 33581, 32795], [33430, 33260, 33197], [33155, 33115, 33007], [32989, 32708, 32384], [32193, 32039, 32038], [32008, 31995, 31946], [31839, 31829, 31633], [31169, 31141, 30929], [30843, 30842, 30807], [30741, 30514, 30387], [30296, 30287, 30284], [30135, 29975, 29933], [29859, 29735, 29730], [29703, 29525, 29518], [29423, 29378, 29234], [29218, 29178, 29092], [29089, 28947, 28647], [28574, 28550, 28547], [28471, 28461, 28299], [28267, 28252, 28251], [28159, 28009, 28003], [27967, 27852, 27811], [27664, 27508, 27413], [27409, 27184, 27162], [27113, 27099, 27048], [27041, 26733, 26506], [26362, 26183, 25997, 21401], [25976, 25897, 25856, 22239], [25784, 25700, 25668, 22712], [25641, 25522, 25490, 23205], [25433, 25408, 25322, 23837], [25299, 25237, 25091, 24367], [25057, 25015, 24990, 24834], [24974, 24939, 24777, 24743], [24625, 24555, 24449, 24340], [24329, 24126, 24085, 24050], [24020, 23999, 23989, 23974], [23928, 23836, 23565, 23491], [23422, 23417, 23195, 23156], [23092, 22644, 22417, 22392], [22281, 22212, 22067, 22045], [22042, 22003, 21866, 21851], [21849, 21713, 21674, 21608], [21607, 21594, 21296, 21239], [21180, 21128, 21059, 20954], [20948, 20947, 20813, 20755], [20725, 20693, 20585, 20513], [20431, 20338, 20310, 20296], [20081]])\n"
     ]
    }
   ],
   "source": [
    "#This method implements first_fit which is an heuristic espcially created \n",
    "#to solve approximately Bin Packing problem\n",
    "#It returns :Number of bin needed\n",
    "#           :The content of each bin(list in witch each index \"i\" contains a list of objects of bin \"i\")\n",
    "def firstFit(weight, n, c): \n",
    "    res=0 # Number of Bins\n",
    "    bin_rem=np.empty(n) # The remaining capacity of each bin which will evaluate with each iteration\n",
    "    bins= [] # The Objects that we will put in each bin\n",
    "    \n",
    "    for i in range(n): # for each object  \n",
    "        j=0  \n",
    "        for j in range(res+1):# for each bin already existes\n",
    "            \n",
    "            if bin_rem[j]>=weight[i]:# Testing if the bin \"j\" still have place to contain the object \"i\"  \n",
    "                # if yes:\n",
    "                bin_rem[j] = bin_rem[j] - weight[i]# Updaing the capacity of the bin in use \n",
    "                if(j!=res-1):# if the bin already contain objects\n",
    "                    bins[j].append(weight[i])              \n",
    "                else:# if the bin is just has been created\n",
    "                    bin_obj.append(weight[i])              \n",
    "                break #Stop iterating since we have found a bin\n",
    "                \n",
    "        if j==res:#Testing if the bin is already full or cannot contain more objects for the moment\n",
    "            if i!=0:# if it's not the first object\n",
    "                    bins.append(bin_obj)# Updating bins content\n",
    "            bin_rem[res] = c - weight[i]# Creating a new bin\n",
    "            bin_obj=[]\n",
    "            bin_obj.append(weight[i])\n",
    "            res=res+1# Updating the number of bins\n",
    "            \n",
    "    if(res>len(bins)):#Testing if the last bin is not fully filled\n",
    "            bins.append(bin_obj)  \n",
    "            \n",
    "    return res,bins\n",
    "\n",
    "filin = open(\"../instances/HARD9.txt\", \"r\")\n",
    "lignes = filin.readlines()\n",
    "n=int(lignes[0])\n",
    "c=int(lignes[1])\n",
    "weight = [ int(x) for x in lignes[2:len(lignes)] ]\n",
    "print(firstFit(weight, n, c));\n"
   ]
  },
  {
   "cell_type": "code",
   "execution_count": 126,
   "metadata": {},
   "outputs": [
    {
     "name": "stdout",
     "output_type": "stream",
     "text": [
      "(59, [[34978, 34849, 30125], [34703, 34608, 30683], [34598, 34524, 30869], [34356, 34308, 30943], [34069, 34049, 31782], [33895, 33842, 32230], [33806, 33738, 32398], [33716, 33590, 32638], [33546, 33507, 32897], [33468, 33465, 32976], [33383, 33190, 33075], [32762, 32696, 32553], [32176, 31967, 31954], [31903, 31724, 31686], [31597, 31561, 31532], [31499, 31346, 30915], [30766, 30678, 30644], [30559, 30448, 30315], [30238, 29974, 29947], [29890, 29886, 29858], [29856, 29783, 29697], [29438, 29427, 29301], [29174, 29173, 29123], [29117, 29116, 29095], [29094, 29063, 29041], [29038, 28977, 28946], [28921, 28910, 28842], [28703, 28360, 28350], [28305, 28302, 28225], [28160, 28094, 28040], [28020, 27901, 27775], [27765, 27688, 27439], [27425, 27394, 27365], [27349, 27284, 27180], [26935, 26881, 26867], [26795, 26703, 26651], [26550, 26432, 26375, 20634], [26368, 26244, 26204, 21127], [26192, 26181, 26158, 21315], [26133, 26067, 25945, 21796], [25906, 25759, 25698, 22442], [25688, 25652, 25615, 22991], [25530, 25528, 25366, 23502], [25324, 25273, 25142, 23987], [24852, 24846, 24658, 24592], [24564, 24463, 24457, 24374], [24359, 24332, 23956, 23952], [23932, 23895, 23837, 23795], [23774, 23663, 23621, 23453], [23430, 23366, 23178, 23090], [22942, 22743, 22432, 22415], [22338, 22134, 22081, 22014], [21950, 21948, 21784, 21727], [21722, 21557, 21498, 21480], [21193, 21060, 20997, 20837], [20813, 20693, 20693, 20686], [20677, 20676, 20664, 20663], [20616, 20570, 20566, 20496], [20441, 20307, 20226, 20114]])\n"
     ]
    }
   ],
   "source": [
    "#This method implements first_fit_Decreasing which is an offligne heuristic espcially created \n",
    "#to solve approximately Bin Packing problem\n",
    "#The difference is that the FFD sort object's list then call the classical method first fit\n",
    "#It returns :Number of bin needed\n",
    "#           :The content of each bin(list in witch each index \"i\" contains a list of objects of bin \"i\")\n",
    "def firstFitDecreasing(weight, n, c): \n",
    "    - np.sort(-weight)# Sorting Object's list\n",
    "    return firstFit(weight, n, c) \n",
    "\n",
    "filin = open(\"../instances/HARD9.txt\", \"r\")\n",
    "lignes = filin.readlines()\n",
    "n=int(lignes[0])\n",
    "c=int(lignes[1])\n",
    "weight = [ int(x) for x in lignes[2:len(lignes)] ]\n",
    "weight=np.asarray(weight)\n",
    "print(firstFitDecreasing(weight, n, c));\n"
   ]
  }
 ],
 "metadata": {
  "kernelspec": {
   "display_name": "Python 3",
   "language": "python",
   "name": "python3"
  },
  "language_info": {
   "codemirror_mode": {
    "name": "ipython",
    "version": 3
   },
   "file_extension": ".py",
   "mimetype": "text/x-python",
   "name": "python",
   "nbconvert_exporter": "python",
   "pygments_lexer": "ipython3",
   "version": "3.7.3"
  }
 },
 "nbformat": 4,
 "nbformat_minor": 2
}
